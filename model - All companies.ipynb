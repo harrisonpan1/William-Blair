{
 "cells": [
  {
   "cell_type": "code",
   "execution_count": 2,
   "metadata": {},
   "outputs": [],
   "source": [
    "#15.433 - Finance Lab\n",
    "#William Blair Team\n",
    "#Getting the necessary inputs for the Option Pricing Model"
   ]
  },
  {
   "cell_type": "code",
   "execution_count": 3,
   "metadata": {},
   "outputs": [
    {
     "name": "stderr",
     "output_type": "stream",
     "text": [
      "In /Users/panqian/anaconda3/lib/python3.7/site-packages/matplotlib/mpl-data/stylelib/_classic_test.mplstyle: \n",
      "The text.latex.preview rcparam was deprecated in Matplotlib 3.3 and will be removed two minor releases later.\n",
      "In /Users/panqian/anaconda3/lib/python3.7/site-packages/matplotlib/mpl-data/stylelib/_classic_test.mplstyle: \n",
      "The mathtext.fallback_to_cm rcparam was deprecated in Matplotlib 3.3 and will be removed two minor releases later.\n",
      "In /Users/panqian/anaconda3/lib/python3.7/site-packages/matplotlib/mpl-data/stylelib/_classic_test.mplstyle: Support for setting the 'mathtext.fallback_to_cm' rcParam is deprecated since 3.3 and will be removed two minor releases later; use 'mathtext.fallback : 'cm' instead.\n",
      "In /Users/panqian/anaconda3/lib/python3.7/site-packages/matplotlib/mpl-data/stylelib/_classic_test.mplstyle: \n",
      "The validate_bool_maybe_none function was deprecated in Matplotlib 3.3 and will be removed two minor releases later.\n",
      "In /Users/panqian/anaconda3/lib/python3.7/site-packages/matplotlib/mpl-data/stylelib/_classic_test.mplstyle: \n",
      "The savefig.jpeg_quality rcparam was deprecated in Matplotlib 3.3 and will be removed two minor releases later.\n",
      "In /Users/panqian/anaconda3/lib/python3.7/site-packages/matplotlib/mpl-data/stylelib/_classic_test.mplstyle: \n",
      "The keymap.all_axes rcparam was deprecated in Matplotlib 3.3 and will be removed two minor releases later.\n",
      "In /Users/panqian/anaconda3/lib/python3.7/site-packages/matplotlib/mpl-data/stylelib/_classic_test.mplstyle: \n",
      "The animation.avconv_path rcparam was deprecated in Matplotlib 3.3 and will be removed two minor releases later.\n",
      "In /Users/panqian/anaconda3/lib/python3.7/site-packages/matplotlib/mpl-data/stylelib/_classic_test.mplstyle: \n",
      "The animation.avconv_args rcparam was deprecated in Matplotlib 3.3 and will be removed two minor releases later.\n"
     ]
    }
   ],
   "source": [
    "#Importing necessary libraries\n",
    "import pandas as pd\n",
    "import numpy as np\n",
    "from datetime import datetime, timedelta\n",
    "from scipy import stats\n",
    "import matplotlib.pyplot as plt"
   ]
  },
  {
   "cell_type": "code",
   "execution_count": 4,
   "metadata": {},
   "outputs": [],
   "source": [
    "#Reading the provided files\n",
    "##Reading the Initial File\n",
    "Col_Names_1 = ['Date', 'Issuer Name', 'Ticker', 'Country Code', 'Country', 'Debt Security Name', 'Bid Price USD', 'Equity Security Name', 'Equity Price USD', 'Equity Total Return', 'Fiscal Date', 'Total Assets', 'Total Liabilities', 'Total Corporate Debt', 'Total Shareholders Equity', 'Shares Outstanding', 'Dividends per Share', 'Dividends Paid', 'Dividend Yield']\n",
    "Filepath_1 = 'MexicanSecurityData.csv'\n",
    "Type = {'Date':'object', 'Issuer Name':'object', 'Ticker':'object', 'Country Code':'object', 'Country':'object', 'Debt Security Name':'object', 'Bid Price USD':'float64', 'Equity Security Name':'object', 'Equity Price USD':'float64', 'Equity Total Return':'float64', 'Fiscal Date':'float64', 'Total Assets':'float64', 'Total Liabilities':'float64', 'Total Corporate Debt':'float64', 'Total Shareholders Equity':'float64', 'Shares Outstanding':'float64', 'Dividends per Share':'float64', 'Dividends Paid':'float64', 'Dividend Yield':'float64'}\n",
    "Mexican_Data = pd.read_csv(Filepath_1, header = 0, dtype = Type, names = Col_Names_1, na_values = ' NA')\n",
    "\n",
    "\n",
    "##Reading the Maturity File\n",
    "Col_Names_2 = ['Debt Name', 'Maturity']\n",
    "Filepath_2 = 'MexicanMaturities.xlsx'\n",
    "Mexican_Maturities = pd.read_excel(Filepath_2, header = 0, names = Col_Names_2, na_values = ' NA')\n",
    "\n",
    "\n",
    "##Reading the Treasury File\n",
    "Col_Names_3 = ['Date', '3M Libor', '1Y', '3Y', '5Y', '7Y', '10Y', '15Y', '30Y']\n",
    "Filepath_3 = 'USTRateData.csv'\n",
    "Treasury_Rate = pd.read_csv(Filepath_3, header = 0, names = Col_Names_3, na_values = ' NA')\n"
   ]
  },
  {
   "cell_type": "code",
   "execution_count": 5,
   "metadata": {},
   "outputs": [
    {
     "data": {
      "text/plain": [
       "array(['BANORT', 'CEMEX', 'KOF', 'SCCO', 'TELVIS'], dtype=object)"
      ]
     },
     "execution_count": 5,
     "metadata": {},
     "output_type": "execute_result"
    }
   ],
   "source": [
    "company_list = Mexican_Data.Ticker.unique()\n",
    "company_list"
   ]
  },
  {
   "cell_type": "code",
   "execution_count": null,
   "metadata": {},
   "outputs": [],
   "source": []
  },
  {
   "cell_type": "code",
   "execution_count": 6,
   "metadata": {},
   "outputs": [
    {
     "data": {
      "text/plain": [
       "'MX Banorte 5 3/4% due 31'"
      ]
     },
     "execution_count": 6,
     "metadata": {},
     "output_type": "execute_result"
    }
   ],
   "source": [
    "# test\n",
    "Mexican_Maturities['Debt Name'].unique()[0][:-17]"
   ]
  },
  {
   "cell_type": "code",
   "execution_count": 7,
   "metadata": {
    "scrolled": true
   },
   "outputs": [
    {
     "data": {
      "text/plain": [
       "array(['MX Cemex 5.2% due 30 Quoted Price Bid',\n",
       "       'MX Cemex 5.45% due 29 Quoted Price Bid',\n",
       "       'MX Cemex 5.7% due 25 Quoted Price Bid',\n",
       "       'MX Cemex 7 3/4% due 26 Quoted Price Bid',\n",
       "       'MX Cemex 7 3/8% due 27 Quoted Price Bid'], dtype=object)"
      ]
     },
     "execution_count": 7,
     "metadata": {},
     "output_type": "execute_result"
    }
   ],
   "source": [
    "# test\n",
    "a = Mexican_Data[Mexican_Data['Ticker'] == 'CEMEX']\n",
    "a['Debt Security Name'].unique()"
   ]
  },
  {
   "cell_type": "code",
   "execution_count": 18,
   "metadata": {},
   "outputs": [],
   "source": [
    "# test\n",
    "company = Mexican_Data[Mexican_Data['Ticker'] == 'CEMEX']\n",
    "company[company['Equity Total Return'].isna()]\n",
    "company = company.dropna(subset=['Equity Total Return'])\n",
    "company_bond = company[company['Debt Security Name'] == 'MX Cemex 5.2% due 30 Quoted Price Bid']\n",
    "\n",
    "#     print(company)\n",
    "MV_Assets, Annual_Volatility, Strike_Price, Expiration_Time, Risk_Free_Rate, Dividend_yield = info(company_bond, 'MX Cemex 5.2% due 30 Quoted Price Bid')"
   ]
  },
  {
   "cell_type": "code",
   "execution_count": 22,
   "metadata": {},
   "outputs": [
    {
     "data": {
      "text/plain": [
       "1700"
      ]
     },
     "execution_count": 22,
     "metadata": {},
     "output_type": "execute_result"
    }
   ],
   "source": [
    "# test\n",
    "simu_liability_price_div = []\n",
    "for i in range(len(Annual_Volatility)):\n",
    "    simu_liability_price_div.append(Strike_Price[i] - \n",
    "                                    priceBS_div(MV_Assets[i], Strike_Price[i], int(Expiration_Time[i]), Risk_Free_Rate[i], \n",
    "                                                Annual_Volatility[i], Dividend_yield[i], 'P'))\n",
    "\n",
    "len(simu_liability_price_div)"
   ]
  },
  {
   "cell_type": "code",
   "execution_count": 24,
   "metadata": {},
   "outputs": [
    {
     "data": {
      "text/plain": [
       "<matplotlib.legend.Legend at 0x7f9561a8f320>"
      ]
     },
     "execution_count": 24,
     "metadata": {},
     "output_type": "execute_result"
    },
    {
     "data": {
      "image/png": "[encoded data removed]",
      "text/plain": [
       "<Figure size 1152x648 with 1 Axes>"
      ]
     },
     "metadata": {
      "needs_background": "light"
     },
     "output_type": "display_data"
    }
   ],
   "source": [
    "# test\n",
    "plt.figure(figsize=(16,9))\n",
    "x = range(1700)\n",
    "plt.plot(x, company_bond['Total Corporate Debt'], label = \"real value\")\n",
    "plt.plot(x, simu_liability_price_div, label = \"estimated value\")\n",
    "plt.xlabel('No. of Rows')\n",
    "plt.ylabel('Price')\n",
    "plt.title('Banorte 5.2% due 30 Quoted Price Bid')\n",
    "plt.legend()\n",
    "# plt.savefig('CEMEX' + '5.2% due 30 Quoted Price Bid' + '.png')"
   ]
  },
  {
   "cell_type": "code",
   "execution_count": null,
   "metadata": {},
   "outputs": [
    {
     "name": "stderr",
     "output_type": "stream",
     "text": [
      "/Users/panqian/anaconda3/lib/python3.7/site-packages/ipykernel_launcher.py:18: RuntimeWarning: More than 20 figures have been opened. Figures created through the pyplot interface (`matplotlib.pyplot.figure`) are retained until explicitly closed and may consume too much memory. (To control this warning, see the rcParam `figure.max_open_warning`).\n"
     ]
    }
   ],
   "source": [
    "for c in company_list: \n",
    "    company = Mexican_Data[Mexican_Data['Ticker'] == c]\n",
    "    company[company['Equity Total Return'].isna()]\n",
    "    company = company.dropna(subset=['Equity Total Return'])\n",
    "#     print(company)\n",
    "    bonds_list = company['Debt Security Name'].unique()\n",
    "    ind = 0\n",
    "    for b in bonds_list:\n",
    "#         print(b)\n",
    "        ind += 1\n",
    "        company_bond = company[company['Debt Security Name'] == b]\n",
    "        MV_Assets, Annual_Volatility, Strike_Price, Expiration_Time, Risk_Free_Rate, Dividend_yield = info(company_bond, b)\n",
    "        simu_liability_price_div = []\n",
    "        for i in range(len(Annual_Volatility)):\n",
    "            simu_liability_price_div.append(Strike_Price[i] - \n",
    "                                            priceBS_div(MV_Assets[i], Strike_Price[i], int(Expiration_Time[i]), Risk_Free_Rate[i], \n",
    "                                                        Annual_Volatility[i], Dividend_yield[i], 'P'))\n",
    "        plt.figure(figsize=(16,9))\n",
    "        x = range(len(simu_liability_price_div))\n",
    "        plt.plot(x, company_bond['Total Corporate Debt'], label = \"real value\")\n",
    "        plt.plot(x, simu_liability_price_div, label = \"estimated value\")\n",
    "        plt.xlabel('No. of Rows')\n",
    "        plt.ylabel('Value')\n",
    "        plt.title(c + ' ' + b)\n",
    "        plt.legend()\n",
    "        plt.savefig(c + ' ' + str(ind) + '.png')"
   ]
  },
  {
   "cell_type": "code",
   "execution_count": 5,
   "metadata": {},
   "outputs": [],
   "source": [
    "def info(company, bond):\n",
    "    #First, we get the Total MV of Assets\n",
    "\n",
    "    ##Getting the necessary inputs with the correct data type\n",
    "    Total_Debt = pd.to_numeric(company['Total Corporate Debt'], errors = 'coerce').to_numpy()\n",
    "    Stock_Price = pd.to_numeric(company['Equity Price USD'], errors = 'coerce').to_numpy()\n",
    "    Shares_Outstanding = pd.to_numeric(company['Shares Outstanding'], errors = 'coerce').to_numpy()\n",
    "\n",
    "    ##Getting the MV of Equity\n",
    "    Equity = Stock_Price *  Shares_Outstanding\n",
    "\n",
    "    ##Getting the MV of Assets\n",
    "    MV_Assets = Total_Debt + Equity\n",
    "    \n",
    "    ##############################\n",
    "    #Second, we get the Assets' Volatility\n",
    "\n",
    "    ##We calculate the equity volatility\n",
    "    Lambda = 0.9075\n",
    "\n",
    "\n",
    "    Equity_Returns = pd.to_numeric(company['Equity Total Return'], errors = 'coerce').to_numpy()\n",
    "    l = len(Equity_Returns)\n",
    "    Equity_Volatility = np.zeros(l)\n",
    "    Equity_Volatility[1] = np.sqrt(Equity_Returns[0]**2)\n",
    "\n",
    "\n",
    "    ## Using EWMA, assume we are using last 250 trading days (one year)\n",
    "    EWMA1 = []\n",
    "    n = len(Equity_Returns)-250\n",
    "    for i in range(n):\n",
    "        total = 0\n",
    "        for j in range(250):\n",
    "            total = total + (Lambda**(250-j)) * (Equity_Returns[i+j]**2)\n",
    "        EWMA1.append((total*(1-Lambda))**0.5)\n",
    "\n",
    "\n",
    "    ##Since we used 250 days as the time window, we cannot calculate the volatilities for the first 250 days. \n",
    "    ##For consistency in list lengths of other variables below, I filled EWMA with 250 NaN in the beginning of the list.\n",
    "\n",
    "    EWMA = [np.nan]*250+EWMA1\n",
    "    \n",
    "    ##We get the D/E ratio\n",
    "    DE_Ratio = Total_Debt / Equity\n",
    "\n",
    "    ##Finally, we calculate the Asset Volatility\n",
    "    #####Asset_Volatility = (1 / (1 + DE_Ratio)) * Equity_Volatility\n",
    "    Asset_Volatility = (1 / (1 + DE_Ratio)) * EWMA\n",
    "\n",
    "    ##Annuliaze Volatility\n",
    "    Annual_Volatility = Asset_Volatility*np.sqrt(252)\n",
    "\n",
    "    \n",
    "    ##############################\n",
    "    #Third, we get the strike price - straightforward\n",
    "    Strike_Price = Total_Debt\n",
    "    \n",
    "    ##############################  \n",
    "    #Fourth, we get the time to maturity\n",
    "\n",
    "    ##We get the maturity of the Banorte Bond from the Mexican Maturities File\n",
    "    bond_pattern = bond[:-17]\n",
    "    Bond_Maturity = Mexican_Maturities[Mexican_Maturities['Debt Name'].str.contains(bond_pattern)]\n",
    "    Bond_Maturity = pd.to_datetime(Bond_Maturity['Maturity'], format = '%Y%m%d').to_numpy()\n",
    "\n",
    "    ##We get the date of the bond from the intial file\n",
    "    Date = pd.to_datetime(company['Date'], format = '%Y/%m/%d').to_numpy()\n",
    "\n",
    "    #Finally, we take the time difference between the actual date and Maturity to get the time to expiration\n",
    "    Expiration_Time = ( Bond_Maturity - Date ) / (365 * 24 * 60 * 60 * 10**9)\n",
    "\n",
    "    \n",
    "    ##############################  \n",
    "    #Fifth, we get the risk-free rate for the US Yield Curve\n",
    "    Treasury_Date = pd.to_datetime(Treasury_Rate['Date'], format = '%Y/%m/%d').to_numpy()\n",
    "    \n",
    "\n",
    "    #For a specific trading day of the bond, we get the closest Treasury Date and for this Treasury Date the closest maturity\n",
    "    Mat = np.array([0.25, 1, 3, 5, 7, 10, 15, 30])\n",
    "    Risk_Free_Rate = []\n",
    "    m = len(Date)\n",
    "    for i in range(m):\n",
    "        #Specific_Date = Date[i]\n",
    "        #We get the closest day when treasury rates are reported\n",
    "        #should be a list of 2555 entries\n",
    "        day_difference = [abs(Date[i] - x) for x in Treasury_Date]\n",
    "\n",
    "        #Find the index of that closest bond issuing day \n",
    "        #Need to be fixed \n",
    "        Day_Index = day_difference.index(min(day_difference))\n",
    "\n",
    "        #We get the closest maturity for the specific date\n",
    "        # should be a list of 8 entries\n",
    "        maturity_difference = [abs(Expiration_Time[i].astype(np.int64) - x) for x in Mat]\n",
    "\n",
    "        #Find the index of that closest maturity \n",
    "        Maturity_Index = maturity_difference.index(min(maturity_difference))\n",
    "\n",
    "        Treasury_Specific_Rate = Treasury_Rate.iloc[Day_Index, Maturity_Index]\n",
    "        #We get the continuously-compounded rate\n",
    "        Rate = np.log(1 + Treasury_Specific_Rate)\n",
    "        Risk_Free_Rate.append(Rate) \n",
    "        \n",
    "    ##############################   \n",
    "    ## Dividend yield \n",
    "    Dividend_yield = pd.to_numeric(company['Dividend Yield'], errors = 'coerce').to_numpy()\n",
    "    Dividend_yield = Dividend_yield / 100\n",
    "    Dividend_yield[0:20]\n",
    "\n",
    "    Dividend_yield = np.log(1 + Dividend_yield)\n",
    "\n",
    "    \n",
    "    return MV_Assets, Annual_Volatility, Strike_Price, Expiration_Time, Risk_Free_Rate, Dividend_yield"
   ]
  },
  {
   "cell_type": "code",
   "execution_count": 6,
   "metadata": {},
   "outputs": [],
   "source": [
    "def priceBS_div(S0, K, T, r, sigma, q, Type):\n",
    "    d1 = (np.log(S0/K) + (r - q + 0.5*sigma**2)*T) / (sigma*np.sqrt(T))\n",
    "    d2 = (np.log(S0/K) + (r - q - 0.5*sigma**2)*T) / (sigma*np.sqrt(T))\n",
    "    if Type == \"C\":\n",
    "        return S0*np.exp(-q*T)*stats.norm.cdf(d1,0,1) - K*np.exp(-r*T)*stats.norm.cdf(d2, 0, 1)\n",
    "    else: \n",
    "        return K*np.exp(-r*T)*stats.norm.cdf(-d2, 0, 1) - S0*np.exp(-q*T)*stats.norm.cdf(-d1,0,1)"
   ]
  },
  {
   "cell_type": "code",
   "execution_count": null,
   "metadata": {},
   "outputs": [],
   "source": []
  }
 ],
 "metadata": {
  "kernelspec": {
   "display_name": "Python 3",
   "language": "python",
   "name": "python3"
  },
  "language_info": {
   "codemirror_mode": {
    "name": "ipython",
    "version": 3
   },
   "file_extension": ".py",
   "mimetype": "text/x-python",
   "name": "python",
   "nbconvert_exporter": "python",
   "pygments_lexer": "ipython3",
   "version": "3.7.3"
  }
 },
 "nbformat": 4,
 "nbformat_minor": 2
}
